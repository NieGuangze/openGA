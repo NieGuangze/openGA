{
 "cells": [
  {
   "cell_type": "markdown",
   "source": [
    "# Genetic Operator\r\n",
    "\r\n",
    "## Overview\r\n",
    "\r\n",
    "This book illustrates cross-over (simulated binary cross-over) and mutation."
   ],
   "metadata": {}
  },
  {
   "cell_type": "code",
   "execution_count": null,
   "source": [
    "%matplotlib inline"
   ],
   "outputs": [],
   "metadata": {}
  },
  {
   "cell_type": "code",
   "execution_count": null,
   "source": [
    "from openGA.chromosome import dist_crossover, dist_mutation\r\n",
    "import matplotlib.pyplot as plt\r\n",
    "import numpy as np\r\n",
    "\r\n",
    "step = 0.01\r\n",
    "x = np.arange(step, 1.0, step)"
   ],
   "outputs": [],
   "metadata": {}
  },
  {
   "cell_type": "markdown",
   "source": [
    "## Cross-Over\r\n",
    "\r\n",
    "- coefficiency distribution - $\\beta$"
   ],
   "metadata": {}
  },
  {
   "cell_type": "code",
   "execution_count": null,
   "source": [
    "coef_cross = np.array([dist_crossover(i) for i in x])\r\n",
    "plt.plot(x, coef_cross, '-k', label=r'$\\beta_{cross}$')\r\n",
    "plt.xlabel(r'random factor $\\sim U(0,1)$')\r\n",
    "plt.ylabel(r'coefficiency $\\beta$')\r\n",
    "plt.title('distribution of cross-over coefficiency')\r\n",
    "plt.grid()"
   ],
   "outputs": [],
   "metadata": {}
  },
  {
   "cell_type": "markdown",
   "source": [
    "## Mutation\r\n",
    "\r\n",
    "- coefficiency distribution - $\\theta$"
   ],
   "metadata": {}
  },
  {
   "cell_type": "code",
   "execution_count": null,
   "source": [
    "coef_mutation = np.array([dist_mutation(i) for i in x])\r\n",
    "plt.plot(x, coef_mutation, '-k', label=r'$\\theta_{mutation}$')\r\n",
    "plt.xlabel(r'random factor $\\sim U(0,1)$')\r\n",
    "plt.ylabel(r'coefficiency $\\theta$')\r\n",
    "plt.title('distribution of mutation coefficiency')\r\n",
    "plt.grid()"
   ],
   "outputs": [],
   "metadata": {}
  },
  {
   "cell_type": "markdown",
   "source": [
    "## Utils\r\n",
    "\r\n",
    "- random uniform distributed in open interval"
   ],
   "metadata": {}
  },
  {
   "cell_type": "code",
   "execution_count": null,
   "source": [
    "from openGA.utils import uniform_open\r\n",
    "\r\n",
    "l = []\r\n",
    "for _ in range(10000):\r\n",
    "    l.append(uniform_open())\r\n",
    "counts, bins, _ = plt.hist(l, bins=20, density=True)\r\n",
    "plt.plot(bins, np.ones_like(bins), ':r', linewidth=2)\r\n",
    "plt.xlabel('random factor value')\r\n",
    "plt.ylabel('normalize distribute counter')\r\n",
    "plt.title('open interval uniform distribution')\r\n",
    "plt.grid()"
   ],
   "outputs": [],
   "metadata": {}
  }
 ],
 "metadata": {
  "orig_nbformat": 4,
  "language_info": {
   "name": "python",
   "version": "3.9.6",
   "mimetype": "text/x-python",
   "codemirror_mode": {
    "name": "ipython",
    "version": 3
   },
   "pygments_lexer": "ipython3",
   "nbconvert_exporter": "python",
   "file_extension": ".py"
  },
  "kernelspec": {
   "name": "python3",
   "display_name": "Python 3.9.6 64-bit ('.venv': venv)"
  },
  "interpreter": {
   "hash": "c5ff3e6e338e4e1bac9a95631ce6b0cc0dced73d2d7a0de6aa0b31bd27e5fb86"
  }
 },
 "nbformat": 4,
 "nbformat_minor": 2
}