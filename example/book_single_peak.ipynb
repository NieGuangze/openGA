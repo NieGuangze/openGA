{
 "cells": [
  {
   "cell_type": "markdown",
   "source": [
    "# Note Book for Single Peak\r\n",
    "\r\n",
    "## Overview\r\n",
    "\r\n",
    "This book describes the application of genetic algorithm to search the max point of single peak objective function.\r\n",
    "\r\n",
    "## Objective Function\r\n",
    "\r\n",
    "$$\r\n",
    "f(x, y) =  (sin(2 \\pi x) + 1) \\cdot (sin(2 \\pi y)  + 1) \\text{, for } x \\in [0, 1] \\text{ and } y \\in [0, 1]\r\n",
    "$$\r\n",
    "\r\n",
    "## Ojective Illustration\r\n"
   ],
   "metadata": {}
  },
  {
   "cell_type": "code",
   "execution_count": null,
   "source": [
    "%matplotlib inline"
   ],
   "outputs": [],
   "metadata": {}
  },
  {
   "cell_type": "code",
   "execution_count": null,
   "source": [
    "# object function plot\r\n",
    "import matplotlib.pyplot as plt\r\n",
    "import numpy as np\r\n",
    "from single_peak import object_funct\r\n",
    "\r\n",
    "x = np.linspace(0, 1, 17)\r\n",
    "y = np.linspace(0, 1, 17)\r\n",
    "xv, yv = np.meshgrid(x, y)\r\n",
    "t = object_funct(xv, yv)\r\n",
    "t_max = np.max(t)\r\n",
    "max_idx = np.where(t == t_max)\r\n",
    "x_max = xv[max_idx]\r\n",
    "y_max = yv[max_idx]\r\n",
    "\r\n",
    "plt.figure()\r\n",
    "plt.contourf(xv, yv, t, levels=9, cmap=plt.cm.rainbow)\r\n",
    "plt.colorbar()\r\n",
    "plt.grid()\r\n",
    "plt.title('contour of objective function')\r\n",
    "plt.ylabel('y')\r\n",
    "plt.xlabel('x')\r\n",
    "axis_tick = [0, 0.25, 0.5, 0.75, 1]\r\n",
    "plt.xticks(axis_tick)\r\n",
    "plt.yticks(axis_tick)\r\n",
    "plt.scatter(x_max, y_max, s=100, marker='^', c='b', alpha=0.5)\r\n",
    "plt.show()\r\n",
    "\r\n",
    "\r\n",
    "fig, ax = plt.subplots(subplot_kw={\"projection\": \"3d\"})\r\n",
    "surf = ax.plot_surface(xv, yv, t, cmap=plt.cm.rainbow, linewidth=0)\r\n",
    "plt.ylabel('y')\r\n",
    "plt.xlabel('x')\r\n",
    "plt.xticks(axis_tick)\r\n",
    "plt.yticks(axis_tick)\r\n",
    "plt.title('surface of objective funciton')\r\n",
    "fig.colorbar(surf)\r\n",
    "plt.show()"
   ],
   "outputs": [],
   "metadata": {}
  },
  {
   "cell_type": "markdown",
   "source": [
    "## Optimzation Result\r\n",
    "\r\n",
    "### Theoretical Solution"
   ],
   "metadata": {}
  },
  {
   "cell_type": "code",
   "execution_count": null,
   "source": [
    "print(f'theoretical peak: z = {t_max}, at ({x_max[0]:6.3f}, {y_max[0]:6.3f})')"
   ],
   "outputs": [],
   "metadata": {}
  },
  {
   "cell_type": "markdown",
   "source": [
    "### GA Solution"
   ],
   "metadata": {}
  },
  {
   "cell_type": "code",
   "execution_count": null,
   "source": [
    "from openGA import GeneticAlgorithm, Individual\r\n",
    "from single_peak import patch_funct, dummy_funct\r\n",
    "\r\n",
    "Individual.evaluate = patch_funct\r\n",
    "Individual.express = dummy_funct\r\n",
    "base_gene = {\r\n",
    "    'x': 0.7,\r\n",
    "    'y': 0.5\r\n",
    "}\r\n",
    "ga = GeneticAlgorithm(base_gene)\r\n",
    "ga._patched = True\r\n",
    "ga.append({'x':0.22,'y':0.22})\r\n",
    "ga.append({'x':1,'y':0.25})\r\n",
    "# print(\"at initial condition\")\r\n",
    "# print(ga.people)\r\n",
    "ga.run(gen_max=15)\r\n",
    "print(\"after evolution:\")\r\n",
    "print(f\"{ga.people}\")\r\n",
    "print(\"evolution result:\")\r\n",
    "print(f\"{ga.result()}\")"
   ],
   "outputs": [],
   "metadata": {}
  },
  {
   "cell_type": "markdown",
   "source": [
    "### Evolution Process"
   ],
   "metadata": {}
  },
  {
   "cell_type": "code",
   "execution_count": null,
   "source": [
    "# fitness\r\n",
    "ga.record.plot(x='gen_id', y='fitness', kind='scatter', marker='x', color='r')\r\n",
    "plt.title('Evolution Process of fitness')\r\n",
    "plt.grid()"
   ],
   "outputs": [],
   "metadata": {}
  },
  {
   "cell_type": "code",
   "execution_count": null,
   "source": [
    "# control vairable x\r\n",
    "ga.record.plot(x='gen_id', y='x', kind='scatter', marker='x', color='b')\r\n",
    "plt.yticks(axis_tick)\r\n",
    "plt.title('Evolution Process of x')\r\n",
    "plt.grid()"
   ],
   "outputs": [],
   "metadata": {}
  },
  {
   "cell_type": "code",
   "execution_count": null,
   "source": [
    "# control varialbe y\r\n",
    "ga.record.plot(x='gen_id', y='y', kind='scatter', marker='x', color='b')\r\n",
    "plt.yticks(axis_tick)\r\n",
    "plt.title('Evolution Process of y')\r\n",
    "plt.grid()"
   ],
   "outputs": [],
   "metadata": {}
  },
  {
   "cell_type": "code",
   "execution_count": null,
   "source": [
    "# 2-d evolutionary process of x-y\r\n",
    "gen_id = ga.record['gen_id'].values\r\n",
    "x_ary = ga.record['x'].values\r\n",
    "y_ary = ga.record['y'].values\r\n",
    "\r\n",
    "cs = plt.contour(xv, yv, t, levels=11) #, cmap=plt.cm.rainbow)\r\n",
    "plt.clabel(cs, cs.levels, inline=True, fmt='%4.2f')\r\n",
    "plt.scatter(x_ary, y_ary, c=gen_id, marker='+', cmap='rainbow', linewidths=1.5)\r\n",
    "plt.colorbar()\r\n",
    "plt.xticks(axis_tick)\r\n",
    "plt.yticks(axis_tick)\r\n",
    "plt.xlabel('x')\r\n",
    "plt.ylabel('y')\r\n",
    "plt.tight_layout()\r\n",
    "plt.title('Evolution Process of x-y')\r\n",
    "plt.grid()"
   ],
   "outputs": [],
   "metadata": {}
  }
 ],
 "metadata": {
  "orig_nbformat": 4,
  "language_info": {
   "name": "python",
   "version": "3.9.6",
   "mimetype": "text/x-python",
   "codemirror_mode": {
    "name": "ipython",
    "version": 3
   },
   "pygments_lexer": "ipython3",
   "nbconvert_exporter": "python",
   "file_extension": ".py"
  },
  "kernelspec": {
   "name": "python3",
   "display_name": "Python 3.9.6 64-bit ('.venv': venv)"
  },
  "interpreter": {
   "hash": "c5ff3e6e338e4e1bac9a95631ce6b0cc0dced73d2d7a0de6aa0b31bd27e5fb86"
  }
 },
 "nbformat": 4,
 "nbformat_minor": 2
}